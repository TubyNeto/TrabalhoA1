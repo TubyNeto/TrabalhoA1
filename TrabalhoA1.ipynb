{
 "cells": [
  {
   "cell_type": "code",
   "execution_count": 2,
   "metadata": {},
   "outputs": [
    {
     "name": "stdout",
     "output_type": "stream",
     "text": [
      "1000001,01\n"
     ]
    }
   ],
   "source": [
    "def convertDecimalBinary(decimal):\n",
    "    binary=[]\n",
    "    integerDecimal=int(decimal)\n",
    "    fractionalDecimal=float(decimal)-int(decimal)\n",
    "    integerBinary=[]\n",
    "    fractionalBinary=[]\n",
    "    counter=10\n",
    "\n",
    "    while(integerDecimal//2>=1):\n",
    "        integerBinary.append(integerDecimal%2)\n",
    "        integerDecimal//=2\n",
    "    if integerDecimal!=0: integerBinary.append(1)\n",
    "    else: integerBinary.append(0)\n",
    "    integerBinary.reverse()\n",
    "    if (fractionalDecimal==0): fractionalBinary.append(0)\n",
    "\n",
    "    while (counter>0 and fractionalDecimal!=0):\n",
    "      fractionalDecimal*=2\n",
    "      fractionalBinary.append(int(fractionalDecimal))\n",
    "      fractionalDecimal=float(fractionalDecimal) - int(fractionalDecimal)\n",
    "      counter-=1\n",
    "    binary=integerBinary + [\",\"] + fractionalBinary\n",
    "    s1 = [str(i) for i in binary]\n",
    "    s1=''.join(s1)\n",
    "    return s1\n",
    "binary=convertDecimalBinary(65.25)\n",
    "print(binary)"
   ]
  },
  {
   "cell_type": "code",
   "execution_count": 3,
   "metadata": {},
   "outputs": [
    {
     "name": "stdout",
     "output_type": "stream",
     "text": [
      "[105 125 150 175 195]\n",
      "[False False  True False False  True False False  True False]\n",
      "[12 15 18]\n",
      "[[10 11 12 13 14]\n",
      " [15 16 17 18 19]]\n"
     ]
    }
   ],
   "source": [
    "import numpy\n",
    "\"\"\"declara uma array 1D com primeiro elemento igual a 100 \n",
    "e último igual a 199, incrementando de 1 em 1\"\"\"\n",
    "arr = numpy.arange(100, 200) \n",
    "\"\"\"declara uma lista de índices\"\"\"\n",
    "select = [5, 25, 50, 75, -5]\n",
    "\"\"\"printa os elementos correspondentes \n",
    "da lista de índices\"\"\"\n",
    "print(arr[select]) \n",
    "\n",
    "\"\"\"declara uma array 1D com primeiro elemento igual \n",
    "a 10 e último igual a 19, incrementando de 1 em 1\"\"\"\n",
    "arr = numpy.arange(10, 20)\n",
    "\"\"\"declara uma lista de variáveis booleanas com cada posição \n",
    "representando a divisibilidade por 3 do mesmo index da array anterior\"\"\"\n",
    "div_by_3 = arr%3 == 0\n",
    "print(div_by_3)\n",
    "\"\"\"printa somente os elementos com boolean true \n",
    "para a divisilidade por 3\"\"\"\n",
    "print(arr[div_by_3])\n",
    "\n",
    "\"\"\"cria uma array 2D, a partir de uma array 1D de 10 elementos, \n",
    "com 2 linhas e 5 colunas\"\"\"\n",
    "arr = numpy.arange(10, 20).reshape((2,5))\n",
    "print(arr)"
   ]
  },
  {
   "cell_type": "code",
   "execution_count": 5,
   "metadata": {},
   "outputs": [
    {
     "name": "stdout",
     "output_type": "stream",
     "text": [
      "[0.  0.5 1.  1.5 2.  2.5 3.  3.5 4.  4.5]\n",
      "[0.  0.5 1.  1.5 2.  2.5 3.  3.5 4.  4.5]\n",
      "[ 0.  2.  4.  6.  8. 10. 12. 14. 16. 18.]\n"
     ]
    },
    {
     "data": {
      "image/png": "[encoded data removed]",
      "text/plain": [
       "<Figure size 432x288 with 1 Axes>"
      ]
     },
     "metadata": {},
     "output_type": "display_data"
    }
   ],
   "source": [
    "import matplotlib.pyplot as plt\n",
    "import numpy as np\n",
    "N = 10\n",
    "y = np.linspace(0, 20, N, endpoint=False)\n",
    "x1 = np.linspace(0, 5, N, endpoint=False)\n",
    "x2 = np.linspace(0, 5, N, endpoint=False)\n",
    "print(x1)\n",
    "print(x2)\n",
    "print(y)\n",
    "plt.plot(x1, y)\n",
    "plt.plot(x2, y + 1)\n",
    "plt.show()"
   ]
  },
  {
   "cell_type": "code",
   "execution_count": 6,
   "metadata": {},
   "outputs": [
    {
     "name": "stdout",
     "output_type": "stream",
     "text": [
      "[5.  4.5 4.  3.5 3.  2.5 2.  1.5 1.  0.5]\n",
      "[0.  0.5 1.  1.5 2.  2.5 3.  3.5 4.  4.5]\n",
      "[ 0.  2.  4.  6.  8. 10. 12. 14. 16. 18.]\n"
     ]
    },
    {
     "data": {
      "image/png": "[encoded data removed]",
      "text/plain": [
       "<Figure size 432x288 with 1 Axes>"
      ]
     },
     "metadata": {},
     "output_type": "display_data"
    }
   ],
   "source": [
    "import matplotlib.pyplot as plt\n",
    "import numpy as np\n",
    "N = 10\n",
    "y = np.linspace(0, 20, N, endpoint=False)\n",
    "x1 = np.linspace(5, 0, N, endpoint=False)\n",
    "x2 = np.linspace(0, 5, N, endpoint=False)\n",
    "print(x1)\n",
    "print(x2)\n",
    "print(y)\n",
    "plt.plot(x1, y)\n",
    "plt.plot(x2, y + 1)\n",
    "plt.show()"
   ]
  }
 ],
 "metadata": {
  "kernelspec": {
   "display_name": "Python 3",
   "language": "python",
   "name": "python3"
  },
  "language_info": {
   "codemirror_mode": {
    "name": "ipython",
    "version": 3
   },
   "file_extension": ".py",
   "mimetype": "text/x-python",
   "name": "python",
   "nbconvert_exporter": "python",
   "pygments_lexer": "ipython3",
   "version": "3.6.5"
  }
 },
 "nbformat": 4,
 "nbformat_minor": 2
}
